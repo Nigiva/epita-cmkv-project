{
 "cells": [
  {
   "cell_type": "code",
   "execution_count": 14,
   "metadata": {},
   "outputs": [],
   "source": [
    "import json\n",
    "import os\n",
    "from matplotlib import pyplot as plt\n",
    "import seaborn as sns\n",
    "import pandas as pd\n",
    "import plotly as pt"
   ]
  },
  {
   "attachments": {},
   "cell_type": "markdown",
   "metadata": {},
   "source": [
    "## Import data"
   ]
  },
  {
   "cell_type": "code",
   "execution_count": 15,
   "metadata": {},
   "outputs": [],
   "source": [
    "BENCHMARK_DIR = \"data/benchmark/\"\n",
    "GRID_SIZE_LIST = [\n",
    "    \"2x2\",\n",
    "    \"3x3\",\n",
    "    \"4x4\",\n",
    "    \"5x5\",\n",
    "    \"6x6\"\n",
    "]\n",
    "result_dict = dict()"
   ]
  },
  {
   "cell_type": "code",
   "execution_count": 16,
   "metadata": {},
   "outputs": [],
   "source": [
    "def read_benchmark_data(benchmark_name):\n",
    "    benchmark_filename = f\"benchmark-{benchmark_name}.json\"\n",
    "    benchmark_filepath = os.path.join(BENCHMARK_DIR, benchmark_filename)\n",
    "    with open(benchmark_filepath, \"r\") as f:\n",
    "        return json.load(f)\n",
    "\n",
    "for benchmark_name in GRID_SIZE_LIST:\n",
    "    result_dict[benchmark_name] = read_benchmark_data(benchmark_name)"
   ]
  },
  {
   "cell_type": "code",
   "execution_count": 22,
   "metadata": {},
   "outputs": [],
   "source": [
    "time_list = []\n",
    "for grid_size in GRID_SIZE_LIST:\n",
    "    for grid in result_dict[grid_size][\"results\"]:\n",
    "        command = grid[\"command\"]\n",
    "        grid_id = int(command[24:25])\n",
    "        for time in grid[\"times\"]:\n",
    "            row = dict()\n",
    "            row[\"grid_size\"] = grid_size\n",
    "            row[\"grid_id\"] = grid_id\n",
    "            row[\"time\"] = time\n",
    "            time_list.append(row)"
   ]
  },
  {
   "cell_type": "code",
   "execution_count": 24,
   "metadata": {},
   "outputs": [
    {
     "data": {
      "text/html": [
       "<div>\n",
       "<style scoped>\n",
       "    .dataframe tbody tr th:only-of-type {\n",
       "        vertical-align: middle;\n",
       "    }\n",
       "\n",
       "    .dataframe tbody tr th {\n",
       "        vertical-align: top;\n",
       "    }\n",
       "\n",
       "    .dataframe thead th {\n",
       "        text-align: right;\n",
       "    }\n",
       "</style>\n",
       "<table border=\"1\" class=\"dataframe\">\n",
       "  <thead>\n",
       "    <tr style=\"text-align: right;\">\n",
       "      <th></th>\n",
       "      <th>grid_size</th>\n",
       "      <th>grid_id</th>\n",
       "      <th>time</th>\n",
       "    </tr>\n",
       "  </thead>\n",
       "  <tbody>\n",
       "    <tr>\n",
       "      <th>0</th>\n",
       "      <td>2x2</td>\n",
       "      <td>1</td>\n",
       "      <td>0.001377</td>\n",
       "    </tr>\n",
       "    <tr>\n",
       "      <th>1</th>\n",
       "      <td>2x2</td>\n",
       "      <td>1</td>\n",
       "      <td>0.001217</td>\n",
       "    </tr>\n",
       "    <tr>\n",
       "      <th>2</th>\n",
       "      <td>2x2</td>\n",
       "      <td>1</td>\n",
       "      <td>0.001316</td>\n",
       "    </tr>\n",
       "    <tr>\n",
       "      <th>3</th>\n",
       "      <td>2x2</td>\n",
       "      <td>1</td>\n",
       "      <td>0.001883</td>\n",
       "    </tr>\n",
       "    <tr>\n",
       "      <th>4</th>\n",
       "      <td>2x2</td>\n",
       "      <td>1</td>\n",
       "      <td>0.001542</td>\n",
       "    </tr>\n",
       "    <tr>\n",
       "      <th>...</th>\n",
       "      <td>...</td>\n",
       "      <td>...</td>\n",
       "      <td>...</td>\n",
       "    </tr>\n",
       "    <tr>\n",
       "      <th>14842</th>\n",
       "      <td>6x6</td>\n",
       "      <td>9</td>\n",
       "      <td>0.292740</td>\n",
       "    </tr>\n",
       "    <tr>\n",
       "      <th>14843</th>\n",
       "      <td>6x6</td>\n",
       "      <td>9</td>\n",
       "      <td>0.284181</td>\n",
       "    </tr>\n",
       "    <tr>\n",
       "      <th>14844</th>\n",
       "      <td>6x6</td>\n",
       "      <td>9</td>\n",
       "      <td>0.292437</td>\n",
       "    </tr>\n",
       "    <tr>\n",
       "      <th>14845</th>\n",
       "      <td>6x6</td>\n",
       "      <td>9</td>\n",
       "      <td>0.293367</td>\n",
       "    </tr>\n",
       "    <tr>\n",
       "      <th>14846</th>\n",
       "      <td>6x6</td>\n",
       "      <td>9</td>\n",
       "      <td>0.289378</td>\n",
       "    </tr>\n",
       "  </tbody>\n",
       "</table>\n",
       "<p>14847 rows × 3 columns</p>\n",
       "</div>"
      ],
      "text/plain": [
       "      grid_size  grid_id      time\n",
       "0           2x2        1  0.001377\n",
       "1           2x2        1  0.001217\n",
       "2           2x2        1  0.001316\n",
       "3           2x2        1  0.001883\n",
       "4           2x2        1  0.001542\n",
       "...         ...      ...       ...\n",
       "14842       6x6        9  0.292740\n",
       "14843       6x6        9  0.284181\n",
       "14844       6x6        9  0.292437\n",
       "14845       6x6        9  0.293367\n",
       "14846       6x6        9  0.289378\n",
       "\n",
       "[14847 rows x 3 columns]"
      ]
     },
     "execution_count": 24,
     "metadata": {},
     "output_type": "execute_result"
    }
   ],
   "source": [
    "bench_df = pd.DataFrame(time_list)\n",
    "bench_df"
   ]
  },
  {
   "cell_type": "code",
   "execution_count": 25,
   "metadata": {},
   "outputs": [],
   "source": [
    "bench_df.to_csv(\"data/benchmark/benchmark.csv\", index=False)"
   ]
  },
  {
   "attachments": {},
   "cell_type": "markdown",
   "metadata": {},
   "source": [
    "## Analyze data"
   ]
  },
  {
   "cell_type": "code",
   "execution_count": 73,
   "metadata": {},
   "outputs": [
    {
     "data": {
      "image/png": "[encoded data removed]",
      "text/plain": [
       "<Figure size 640x480 with 1 Axes>"
      ]
     },
     "metadata": {},
     "output_type": "display_data"
    }
   ],
   "source": [
    "data = bench_df.groupby([\"grid_size\", \"grid_id\"]).mean().reset_index()\n",
    "sns.set_theme(style=\"darkgrid\")\n",
    "grid = sns.boxplot(\n",
    "    x=\"grid_size\",\n",
    "    y=\"time\",\n",
    "    # hue=\"grid_id\",\n",
    "    palette=\"PuBu\",\n",
    "    data=data\n",
    ")\n",
    "grid.set(yscale=\"log\")\n",
    "\n",
    "sns.swarmplot(\n",
    "    x=\"grid_size\",\n",
    "    y=\"time\",\n",
    "    # hue=\"grid_id\",\n",
    "    data=data,\n",
    "    color=\"#f27a47\",\n",
    ")\n",
    "grid.set(yscale=\"log\")\n",
    "\n",
    "plt.savefig(\"images/boxplot-time-size.png\")"
   ]
  },
  {
   "cell_type": "code",
   "execution_count": 71,
   "metadata": {},
   "outputs": [
    {
     "data": {
      "text/html": [
       "<div>\n",
       "<style scoped>\n",
       "    .dataframe tbody tr th:only-of-type {\n",
       "        vertical-align: middle;\n",
       "    }\n",
       "\n",
       "    .dataframe tbody tr th {\n",
       "        vertical-align: top;\n",
       "    }\n",
       "\n",
       "    .dataframe thead tr th {\n",
       "        text-align: left;\n",
       "    }\n",
       "\n",
       "    .dataframe thead tr:last-of-type th {\n",
       "        text-align: right;\n",
       "    }\n",
       "</style>\n",
       "<table border=\"1\" class=\"dataframe\">\n",
       "  <thead>\n",
       "    <tr>\n",
       "      <th></th>\n",
       "      <th colspan=\"5\" halign=\"left\">time</th>\n",
       "    </tr>\n",
       "    <tr>\n",
       "      <th></th>\n",
       "      <th>mean</th>\n",
       "      <th>median</th>\n",
       "      <th>std</th>\n",
       "      <th>min</th>\n",
       "      <th>max</th>\n",
       "    </tr>\n",
       "    <tr>\n",
       "      <th>grid_size</th>\n",
       "      <th></th>\n",
       "      <th></th>\n",
       "      <th></th>\n",
       "      <th></th>\n",
       "      <th></th>\n",
       "    </tr>\n",
       "  </thead>\n",
       "  <tbody>\n",
       "    <tr>\n",
       "      <th>2x2</th>\n",
       "      <td>1.189935</td>\n",
       "      <td>1.038935</td>\n",
       "      <td>1.082216</td>\n",
       "      <td>0.751029</td>\n",
       "      <td>32.798632</td>\n",
       "    </tr>\n",
       "    <tr>\n",
       "      <th>3x3</th>\n",
       "      <td>7.149053</td>\n",
       "      <td>6.536044</td>\n",
       "      <td>4.383013</td>\n",
       "      <td>0.694219</td>\n",
       "      <td>40.057198</td>\n",
       "    </tr>\n",
       "    <tr>\n",
       "      <th>4x4</th>\n",
       "      <td>16.627480</td>\n",
       "      <td>15.103171</td>\n",
       "      <td>4.555540</td>\n",
       "      <td>10.152792</td>\n",
       "      <td>56.724898</td>\n",
       "    </tr>\n",
       "    <tr>\n",
       "      <th>5x5</th>\n",
       "      <td>22.925644</td>\n",
       "      <td>16.528124</td>\n",
       "      <td>20.662463</td>\n",
       "      <td>9.769217</td>\n",
       "      <td>173.132353</td>\n",
       "    </tr>\n",
       "    <tr>\n",
       "      <th>6x6</th>\n",
       "      <td>118.763430</td>\n",
       "      <td>22.948149</td>\n",
       "      <td>268.589507</td>\n",
       "      <td>16.113656</td>\n",
       "      <td>1542.144311</td>\n",
       "    </tr>\n",
       "  </tbody>\n",
       "</table>\n",
       "</div>"
      ],
      "text/plain": [
       "                 time                                               \n",
       "                 mean     median         std        min          max\n",
       "grid_size                                                           \n",
       "2x2          1.189935   1.038935    1.082216   0.751029    32.798632\n",
       "3x3          7.149053   6.536044    4.383013   0.694219    40.057198\n",
       "4x4         16.627480  15.103171    4.555540  10.152792    56.724898\n",
       "5x5         22.925644  16.528124   20.662463   9.769217   173.132353\n",
       "6x6        118.763430  22.948149  268.589507  16.113656  1542.144311"
      ]
     },
     "execution_count": 71,
     "metadata": {},
     "output_type": "execute_result"
    }
   ],
   "source": [
    "df = bench_df.groupby([\"grid_size\"]).agg([\"mean\",\"median\", \"std\", \"min\", \"max\"]).drop(columns=[\"grid_id\"])\n",
    "df[[(\"time\", \"mean\"), (\"time\", \"median\"), (\"time\", \"std\"), (\"time\", \"min\"), (\"time\", \"max\")]]*1000 # en ms"
   ]
  },
  {
   "cell_type": "code",
   "execution_count": 74,
   "metadata": {},
   "outputs": [
    {
     "data": {
      "text/html": [
       "<div>\n",
       "<style scoped>\n",
       "    .dataframe tbody tr th:only-of-type {\n",
       "        vertical-align: middle;\n",
       "    }\n",
       "\n",
       "    .dataframe tbody tr th {\n",
       "        vertical-align: top;\n",
       "    }\n",
       "\n",
       "    .dataframe thead th {\n",
       "        text-align: right;\n",
       "    }\n",
       "</style>\n",
       "<table border=\"1\" class=\"dataframe\">\n",
       "  <thead>\n",
       "    <tr style=\"text-align: right;\">\n",
       "      <th></th>\n",
       "      <th>grid_id</th>\n",
       "      <th>time</th>\n",
       "    </tr>\n",
       "    <tr>\n",
       "      <th>grid_size</th>\n",
       "      <th></th>\n",
       "      <th></th>\n",
       "    </tr>\n",
       "  </thead>\n",
       "  <tbody>\n",
       "    <tr>\n",
       "      <th>2x2</th>\n",
       "      <td>9077</td>\n",
       "      <td>9077</td>\n",
       "    </tr>\n",
       "    <tr>\n",
       "      <th>3x3</th>\n",
       "      <td>3038</td>\n",
       "      <td>3038</td>\n",
       "    </tr>\n",
       "    <tr>\n",
       "      <th>4x4</th>\n",
       "      <td>1398</td>\n",
       "      <td>1398</td>\n",
       "    </tr>\n",
       "    <tr>\n",
       "      <th>5x5</th>\n",
       "      <td>1002</td>\n",
       "      <td>1002</td>\n",
       "    </tr>\n",
       "    <tr>\n",
       "      <th>6x6</th>\n",
       "      <td>332</td>\n",
       "      <td>332</td>\n",
       "    </tr>\n",
       "  </tbody>\n",
       "</table>\n",
       "</div>"
      ],
      "text/plain": [
       "           grid_id  time\n",
       "grid_size               \n",
       "2x2           9077  9077\n",
       "3x3           3038  3038\n",
       "4x4           1398  1398\n",
       "5x5           1002  1002\n",
       "6x6            332   332"
      ]
     },
     "execution_count": 74,
     "metadata": {},
     "output_type": "execute_result"
    }
   ],
   "source": [
    "bench_df.groupby([\"grid_size\"]).count()"
   ]
  }
 ],
 "metadata": {
  "kernelspec": {
   "display_name": ".venv",
   "language": "python",
   "name": "python3"
  },
  "language_info": {
   "codemirror_mode": {
    "name": "ipython",
    "version": 3
   },
   "file_extension": ".py",
   "mimetype": "text/x-python",
   "name": "python",
   "nbconvert_exporter": "python",
   "pygments_lexer": "ipython3",
   "version": "3.10.2"
  },
  "orig_nbformat": 4,
  "vscode": {
   "interpreter": {
    "hash": "0f568685094cb64c11698c878e230bd9c720b6b2e9455f0949644d1ad04e9750"
   }
  }
 },
 "nbformat": 4,
 "nbformat_minor": 2
}
